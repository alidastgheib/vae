{
 "cells": [
  {
   "cell_type": "markdown",
   "metadata": {},
   "source": [
    "# Variational Autoencoder for Audio\n",
    "In this notebook, I will attempt to implement a VAE for generating similar sounds as those in a Spoken Digit audio Database. "
   ]
  },
  {
   "cell_type": "code",
   "execution_count": null,
   "metadata": {
    "collapsed": false
   },
   "outputs": [],
   "source": [
    "%matplotlib inline\n",
    "import IPython.display\n",
    "\n",
    "import gzip\n",
    "import cPickle as pickle\n",
    "import pandas as pd\n",
    "import random\n",
    "import seaborn\n",
    "import librosa\n",
    "\n",
    "from librosa.display import waveplot, specshow\n",
    "seaborn.set(style='ticks')"
   ]
  },
  {
   "cell_type": "code",
   "execution_count": null,
   "metadata": {
    "collapsed": false
   },
   "outputs": [],
   "source": [
    "dbfile ='../SpokenDigitDB.pkl.gz'\n",
    "with gzip.open(dbfile, 'rb') as ifile:\n",
    "    df = pickle.load(ifile)\n",
    "    print('File loaded as '+ dbfile)    "
   ]
  },
  {
   "cell_type": "code",
   "execution_count": null,
   "metadata": {
    "collapsed": false
   },
   "outputs": [],
   "source": [
    "df.info()"
   ]
  },
  {
   "cell_type": "code",
   "execution_count": null,
   "metadata": {
    "collapsed": false
   },
   "outputs": [],
   "source": [
    "mag = df.Magnitude\n",
    "mgs = [np.shape(x)[1] for x in mag]\n",
    "maxlen = np.max(mgs)\n",
    "print('Maximum length is: {} '.format(maxlen))\n",
    "plt.hist(mgs,50)"
   ]
  },
  {
   "cell_type": "code",
   "execution_count": null,
   "metadata": {
    "collapsed": false
   },
   "outputs": [],
   "source": [
    "# Padding & Truncating\n",
    "maxlen = 84\n",
    "pad    = lambda a, n: a[:,0: n] if a.shape[1] > n else np.hstack((a, np.zeros([a.shape[0],n - a.shape[1]])))\n",
    "\n",
    "df.Magnitude = df.Magnitude.apply(pad,args=(maxlen,))  # MaxLen Truncation Voodoo :D\n",
    "df.Phase     = df.Phase.apply(pad,args=(maxlen,))\n",
    "\n",
    "print(np.unique([np.shape(x)[1] for x in df.Magnitude]))\n",
    "print(np.unique([np.shape(x)[1] for x in df.Phase]))"
   ]
  },
  {
   "cell_type": "markdown",
   "metadata": {},
   "source": [
    "## Plot Samples from Database"
   ]
  },
  {
   "cell_type": "code",
   "execution_count": null,
   "metadata": {
    "collapsed": false
   },
   "outputs": [],
   "source": [
    "seaborn.set(style='white')\n",
    "\n",
    "# Plot K Random Examples\n",
    "k  = 5\n",
    "sr = 8000\n",
    "\n",
    "sidx = random.sample(range(len(df)),k)\n",
    "sidx = np.append(sidx,[sidx,sidx])    \n",
    "\n",
    "for i,j in enumerate(sidx):\n",
    "    if i<k:\n",
    "        subplot(3,k,i+1)\n",
    "        waveplot(df.Wave[j],sr=sr)\n",
    "        title('Digit:{1}'.format(j,df.Class[j]))\n",
    "        gca().set_xticklabels([])\n",
    "        gca().set_yticklabels([])\n",
    "        gca().get_xaxis().set_visible(False)\n",
    "\n",
    "    elif (i>=k and i<2*k):\n",
    "        subplot(3,k,i+1)\n",
    "        specshow(df.Magnitude[j],sr=sr)\n",
    "        gca().set_xticklabels([])\n",
    "        gca().set_yticklabels([])\n",
    "        \n",
    "    else:\n",
    "        subplot(3,k,i+1)\n",
    "        specshow(df.Phase[j],sr=sr)\n",
    "        gca().set_xticklabels([])\n",
    "        gca().set_yticklabels([])        "
   ]
  },
  {
   "cell_type": "code",
   "execution_count": null,
   "metadata": {
    "collapsed": false
   },
   "outputs": [],
   "source": [
    "# np.max(df.Magnitude[j])\n",
    "# np.max(df.Phase[j])"
   ]
  },
  {
   "cell_type": "markdown",
   "metadata": {},
   "source": [
    "## Playback & Reconstruction"
   ]
  },
  {
   "cell_type": "code",
   "execution_count": null,
   "metadata": {
    "collapsed": false
   },
   "outputs": [],
   "source": [
    "# Play back an example!\n",
    "j = sidx[1]\n",
    "IPython.display.Audio(data=df.Wave[j], rate=sr)"
   ]
  },
  {
   "cell_type": "code",
   "execution_count": null,
   "metadata": {
    "collapsed": false
   },
   "outputs": [],
   "source": [
    "# Reconstruct Audio from Spectrogram\n",
    "def audio_recon(mag,phi):\n",
    "    nfft = 128\n",
    "    hop  = nfft/2\n",
    "    mag = librosa.db_to_amplitude(mag)           # 1: convert magnitude from db to amplitude\n",
    "    phi = np.cos(phi) + 1j*np.sin(phi)           # 2: convert phase from angle to phasor/complex\n",
    "    wav = librosa.istft(mag*phi, hop_length=hop) # 3: compute stft as -  Magnitude * Phase    \n",
    "    return wav\n",
    "\n",
    "yo = df.Wave[j]    \n",
    "yr = audio_recon(df.Magnitude[j],df.Phase[j])\n",
    "IPython.display.Audio(data=yr, rate=sr)"
   ]
  },
  {
   "cell_type": "code",
   "execution_count": null,
   "metadata": {
    "collapsed": false
   },
   "outputs": [],
   "source": [
    "# Compare reconstructed with original\n",
    "plt.figure(figsize=(4,4))\n",
    "plt.subplot(211)\n",
    "librosa.display.waveplot(yo,sr=sr,alpha=0.7)\n",
    "plt.title('Original')\n",
    "\n",
    "plt.subplot(212)\n",
    "librosa.display.waveplot(yr[:len(yo)],sr=sr,color='r',alpha=0.3)\n",
    "plt.title('Reconstructed')\n",
    "plt.tight_layout()"
   ]
  },
  {
   "cell_type": "markdown",
   "metadata": {},
   "source": [
    "## VAE for Audio"
   ]
  },
  {
   "cell_type": "code",
   "execution_count": null,
   "metadata": {
    "collapsed": false
   },
   "outputs": [],
   "source": [
    "# Imports\n",
    "from keras.layers import Input, Dense, Lambda, Flatten, Reshape, Layer\n",
    "from keras.layers import Conv2D, Conv2DTranspose\n",
    "from keras.models import Model\n",
    "from keras import backend as K\n",
    "from keras.callbacks import TensorBoard\n",
    "\n",
    "from keras import metrics\n",
    "from sklearn.utils import shuffle\n",
    "from scipy.stats import norm\n",
    "import keras"
   ]
  },
  {
   "cell_type": "code",
   "execution_count": null,
   "metadata": {
    "collapsed": true
   },
   "outputs": [],
   "source": [
    "from keras.layers.merge import Concatenate\n",
    "import keras"
   ]
  },
  {
   "cell_type": "code",
   "execution_count": null,
   "metadata": {
    "collapsed": true
   },
   "outputs": [],
   "source": [
    "chns, rows, cols = 1, 64, 84\n",
    "filters = 8\n",
    "\n",
    "batch_size = 10\n",
    "latent_dim = 10\n",
    "middle_dim = 200\n",
    "\n",
    "epochs = 25\n",
    "epsilon_std = 1.0\n",
    "img_size = (rows,cols,chns)"
   ]
  },
  {
   "cell_type": "code",
   "execution_count": null,
   "metadata": {
    "collapsed": false
   },
   "outputs": [],
   "source": [
    "x_mag = Input(shape=img_size,name='magnitude')\n",
    "x_phi = Input(shape=img_size,name='phase')\n",
    "\n",
    "# Mag Encoder\n",
    "mconv1 = Conv2D(filters,(3,5),padding='same',activation='relu',strides=(2,3))(x_mag)\n",
    "mconv2 = Conv2D(filters,(3,3),padding='same',activation='relu',strides=(2,2))(mconv1)\n",
    "mconv  = Flatten()(mconv2)\n",
    "\n",
    "# Phi Encoder\n",
    "pconv1 = Conv2D(filters,(3,5),padding='same',activation='relu',strides=(2,3))(x_phi)\n",
    "pconv2 = Conv2D(filters,(3,3),padding='same',activation='relu',strides=(2,2))(pconv1)\n",
    "pconv  = Flatten()(pconv2)\n",
    "\n",
    "\n",
    "# Intermediate Shared Layer - Encoder\n",
    "shared_layer = Dense(middle_dim, activation='relu')\n",
    "encoded_m = shared_layer(mconv)\n",
    "encoded_p = shared_layer(pconv)\n",
    "# encoded   = K.concatenate([encoded_m, encoded_p], axis=-1)\n",
    "encoded   = keras.layers.concatenate([encoded_m, encoded_p])\n",
    "\n",
    "# Latent Distribution\n",
    "z_mean = Dense(latent_dim)(encoded)\n",
    "z_lvar = Dense(latent_dim)(encoded)"
   ]
  },
  {
   "cell_type": "code",
   "execution_count": null,
   "metadata": {
    "collapsed": false
   },
   "outputs": [],
   "source": [
    "# Gaussian Sampler\n",
    "def sampling(args):\n",
    "    z_mean, z_lvar = args\n",
    "    bsize = K.shape(z_mean)[0]\n",
    "    epsilon = K.random_normal(shape=(bsize, latent_dim),\n",
    "                              mean=0.0, stddev=epsilon_std)\n",
    "    return z_mean + K.exp(z_lvar / 2) * epsilon\n",
    "\n",
    "z = Lambda(sampling, output_shape=(latent_dim,))([z_mean, z_lvar])"
   ]
  },
  {
   "cell_type": "code",
   "execution_count": null,
   "metadata": {
    "collapsed": true
   },
   "outputs": [],
   "source": [
    "# Intermediate Shared Layer - Decoder\n",
    "decode_h = Dense(middle_dim, activation='relu')\n",
    "\n",
    "# Mag Decoder\n",
    "decode_m   = decode_h(z)\n",
    "upsample_m = Dense(filters*16*14, activation='relu')(decode_m)\n",
    "ureshape_m = Reshape((16,14,filters))(upsample_m)\n",
    "trconv1_m  = Conv2DTranspose(filters,3,padding='same',\n",
    "                          activation='relu',strides=2)(ureshape_m)\n",
    "trconv2_m  = Conv2DTranspose(filters,(3,5),padding='same',\n",
    "                          activation='relu',strides=(2,3))(trconv1_m)\n",
    "decoded_m  = Conv2D(chns,2,padding='same',activation='relu',name='decoded_mag')(trconv2_m)\n",
    "\n",
    "\n",
    "# Phi Decoder\n",
    "decode_p   = decode_h(z)\n",
    "upsample_p = Dense(filters*16*14, activation='relu')(decode_p)\n",
    "ureshape_p = Reshape((16,14,filters))(upsample_p)\n",
    "trconv1_p  = Conv2DTranspose(filters,3,padding='same',\n",
    "                          activation='relu',strides=2)(ureshape_p)\n",
    "trconv2_p  = Conv2DTranspose(filters,(3,5),padding='same',\n",
    "                          activation='relu',strides=(2,3))(trconv1_p)\n",
    "decoded_p  = Conv2D(chns,2,padding='same',activation='relu',name='decoded_phi')(trconv2_p)"
   ]
  },
  {
   "cell_type": "code",
   "execution_count": null,
   "metadata": {
    "collapsed": false
   },
   "outputs": [],
   "source": [
    "def vae_loss(x, decoded):\n",
    "    x = K.flatten(x)\n",
    "    decoded = K.flatten(decoded)\n",
    "    gen_loss = rows * cols * metrics.binary_crossentropy(x, decoded)\n",
    "    kl_loss = - 0.5 * K.mean(1 + z_lvar - K.square(z_mean) - K.exp(z_lvar), axis=-1)\n",
    "    return K.mean(gen_loss + kl_loss)\n",
    "\n",
    "# Model\n",
    "vae = Model(inputs=[x_mag, x_phi], outputs=[decoded_m, decoded_p])\n",
    "vae.compile(optimizer='rmsprop', loss=vae_loss)\n",
    "vae.summary()"
   ]
  },
  {
   "cell_type": "code",
   "execution_count": null,
   "metadata": {
    "collapsed": false
   },
   "outputs": [],
   "source": [
    "# Model(inputs = [x_mag,x_phi],outputs=z_mean)"
   ]
  },
  {
   "cell_type": "code",
   "execution_count": null,
   "metadata": {
    "collapsed": false
   },
   "outputs": [],
   "source": [
    "import tensorflow as tf\n",
    "\n",
    "with tf.Session() as sess:\n",
    "    writer = tf.summary.FileWriter('logs', sess.graph)\n",
    "#     print sess.run(golden_ratio)\n",
    "    writer.close()"
   ]
  },
  {
   "cell_type": "code",
   "execution_count": null,
   "metadata": {
    "collapsed": false
   },
   "outputs": [],
   "source": [
    "# # Custom loss layer\n",
    "# class VAELossLayer(Layer):\n",
    "#     def __init__(self, **kwargs):\n",
    "#         self.is_placeholder = True\n",
    "#         super(VAELossLayer, self).__init__(**kwargs)\n",
    "\n",
    "#     def vae_loss(self, x, decoded):\n",
    "#         x = K.flatten(x)\n",
    "#         decoded = K.flatten(decoded)\n",
    "#         gen_loss = rows * cols * metrics.binary_crossentropy(x, decoded)\n",
    "#         kl_loss = - 0.5 * K.mean(1 + z_lvar - K.square(z_mean) - K.exp(z_lvar), axis=-1)\n",
    "#         return K.mean(gen_loss + kl_loss)\n",
    "\n",
    "#     def call(self, inputs):\n",
    "#         x = inputs[0]\n",
    "#         decoded = inputs[1]\n",
    "#         loss = self.vae_loss(x, decoded)\n",
    "#         self.add_loss(loss, inputs=inputs)\n",
    "#         # We don't use this output.\n",
    "#         return x\n",
    "\n",
    "# y = VAELossLayer()([x,decoded])\n",
    "# vae = Model(x,y)\n",
    "# vae.compile(optimizer='rmsprop', loss=None)\n",
    "# vae.summary()"
   ]
  },
  {
   "cell_type": "code",
   "execution_count": null,
   "metadata": {
    "collapsed": false
   },
   "outputs": [],
   "source": [
    "# Encoder\n",
    "encoder = Model(x,z_mean)\n",
    "\n",
    "# Generator\n",
    "# dd_in = Input(shape=(latent_dim,))\n",
    "# dd = decode_h(dd_in)\n",
    "# dd = ureshape(dd)\n",
    "# dd = trconv1(dd)\n",
    "# dd = trconv2(dd)\n",
    "# dd = decoded(dd)\n",
    "# generator = Model(dd_in,dd) \n",
    "generator = Model(x,decoded)"
   ]
  },
  {
   "cell_type": "code",
   "execution_count": null,
   "metadata": {
    "collapsed": true
   },
   "outputs": [],
   "source": [
    "# Get Training Data\n",
    "x_data = df.Magnitude.values\n",
    "x_data = np.dstack(x_data)\n",
    "x_data = x_data.transpose(2,0,1)\n",
    "x_data = x_data[...,None]         # add singleton class\n",
    "x_data = shuffle(x_data)"
   ]
  },
  {
   "cell_type": "code",
   "execution_count": null,
   "metadata": {
    "collapsed": false
   },
   "outputs": [],
   "source": [
    "vae.fit(x_data,x_data,\n",
    "        shuffle=True,\n",
    "        epochs=15,\n",
    "        batch_size=50,\n",
    "        callbacks=[TensorBoard(log_dir='/tmp/vautoeconder')])"
   ]
  },
  {
   "cell_type": "code",
   "execution_count": null,
   "metadata": {
    "collapsed": true
   },
   "outputs": [],
   "source": [
    "xx = generator.predict(x_data[:10])"
   ]
  },
  {
   "cell_type": "code",
   "execution_count": null,
   "metadata": {
    "collapsed": false
   },
   "outputs": [],
   "source": [
    "k = 0 \n",
    "subplot(211)\n",
    "ss=x_data[k].squeeze()\n",
    "specshow(ss,sr=sr)\n",
    "\n",
    "subplot(212)\n",
    "ss=xx[k].squeeze()\n",
    "specshow(ss,sr=sr)"
   ]
  },
  {
   "cell_type": "code",
   "execution_count": null,
   "metadata": {
    "collapsed": false
   },
   "outputs": [],
   "source": [
    "ss=x_data[k].squeeze()\n",
    "np.max(ss[:])"
   ]
  },
  {
   "cell_type": "code",
   "execution_count": null,
   "metadata": {
    "collapsed": true
   },
   "outputs": [],
   "source": []
  }
 ],
 "metadata": {
  "anaconda-cloud": {},
  "kernelspec": {
   "display_name": "Python 2",
   "language": "python",
   "name": "python2"
  },
  "language_info": {
   "codemirror_mode": {
    "name": "ipython",
    "version": 2
   },
   "file_extension": ".py",
   "mimetype": "text/x-python",
   "name": "python",
   "nbconvert_exporter": "python",
   "pygments_lexer": "ipython2",
   "version": "2.7.11"
  }
 },
 "nbformat": 4,
 "nbformat_minor": 0
}
